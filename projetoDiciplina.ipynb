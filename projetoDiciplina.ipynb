{
  "nbformat": 4,
  "nbformat_minor": 0,
  "metadata": {
    "colab": {
      "provenance": []
    },
    "kernelspec": {
      "name": "python3",
      "display_name": "Python 3"
    },
    "language_info": {
      "name": "python"
    }
  },
  "cells": [
    {
      "cell_type": "code",
      "source": [
        "import cv2\n",
        "import numpy as np\n",
        "\n",
        "\n",
        "imagem = cv2.imread('/content/cavalo.jpg')\n",
        "\n",
        "azul, verde, vermelho = cv2.split(imagem)\n",
        "\n",
        "imagem_mesclada = cv2.merge((azul, verde, vermelho))\n",
        "\n",
        "imagem_invertida = cv2.merge((vermelho, verde, azul))\n",
        "\n",
        "blank = np.zeros(imagem.shape[:2], dtype='uint8')\n",
        "\n",
        "canal_azul = cv2.merge([azul,blank,blank])\n",
        "canal_azul_gimp = cv2.merge([azul,azul,azul])\n",
        "canal_verde = cv2.merge([blank,verde,blank])\n",
        "canal_verde_gimp = cv2.merge([verde,verde,verde])\n",
        "canal_vermelho = cv2.merge([blank,blank,vermelho])\n",
        "canal_vermelho_gimp = cv2.merge([vermelho,vermelho,vermelho])\n",
        "\n",
        "cv2.imwrite('Azul.jpg', canal_azul)\n",
        "cv2.imwrite('Azul_gimp.png', canal_azul_gimp)\n",
        "cv2.imwrite('Verde.png', canal_verde)\n",
        "cv2.imwrite('Verde_gimp.png', canal_verde_gimp)\n",
        "cv2.imwrite('Vermelho.png', canal_vermelho)\n",
        "cv2.imwrite('Vermelho_gimp.png', canal_vermelho_gimp)\n",
        "cv2.imwrite(\"imagem_mesclada.png\", imagem_mesclada)\n",
        "cv2.imwrite(\"imagem_invertida.png\", imagem_invertida)"
      ],
      "metadata": {
        "colab": {
          "base_uri": "https://localhost:8080/"
        },
        "id": "kJfSqsH7uYq6",
        "outputId": "a7a0405a-f768-42a0-bc7d-584077988956"
      },
      "execution_count": 6,
      "outputs": [
        {
          "output_type": "execute_result",
          "data": {
            "text/plain": [
              "True"
            ]
          },
          "metadata": {},
          "execution_count": 6
        }
      ]
    },
    {
      "cell_type": "code",
      "execution_count": 5,
      "metadata": {
        "id": "72ou3TU9pdEk"
      },
      "outputs": [],
      "source": [
        "from PIL import Image, ImageDraw, ImageEnhance\n",
        "from skimage import measure\n",
        "import numpy as np\n",
        "import cv2\n",
        "\n",
        "# Abrir imagem\n",
        "imagem = Image.open('/content/mama.PNG')\n",
        "\n",
        "# Converter a imagem em escala de cinza\n",
        "imagem_cinza = imagem.convert('L')\n",
        "\n",
        "# Converter a imagem em uma matriz numpy\n",
        "matriz_imagem = np.array(imagem_cinza)\n",
        "\n",
        "# Detectar os contornos\n",
        "contornos = measure.find_contours(matriz_imagem, 0.8)\n",
        "\n",
        "# Desenhar os contornos na imagem original\n",
        "desenhar = ImageDraw.Draw(imagem)\n",
        "for contorno in contornos:\n",
        "    for i in range(len(contorno)- 1):\n",
        "      desenhar.line((contorno[i][1], contorno[i][0], contorno[i+1][1], contorno[i+1][0]), fill='red', width=2)\n",
        "\n",
        "# Aumentar o contraste\n",
        "realcar = ImageEnhance.Contrast(imagem)\n",
        "imagem = realcar.enhance(15.5)\n",
        "\n",
        "# Mostrar a imagem com os contornos\n",
        "imagem.save('mama_contornos.png')"
      ]
    },
    {
      "cell_type": "code",
      "source": [
        "import cv2\n",
        "import numpy as np\n",
        "img = cv2.imread(\"mama_contornos.png\")\n",
        "# cvs2.imshow('Image', img)\n",
        "numero_pixels_branco = np.sum(img == 255)\n",
        "numero_pixels_preto = np.sum(img == 0)\n",
        "print('Número de pixels branco:', numero_pixels_branco)\n",
        "print('Número de pixels pretos:', numero_pixels_preto)\n",
        "\n",
        "# Calcula a média de pixels branco\n",
        "percentual_pixels_brancos = numero_pixels_branco / (numero_pixels_branco + numero_pixels_preto) * 100\n",
        "\n",
        "print('Percentual pixels brancos:', percentual_pixels_brancos)\n",
        "if (percentual_pixels_brancos >= 30):\n",
        "  print('Imagem com câncer')\n",
        "else: print('Imagem sem câncer')"
      ],
      "metadata": {
        "colab": {
          "base_uri": "https://localhost:8080/"
        },
        "id": "vqld3Rmyq9Mq",
        "outputId": "0228fd29-0911-4df4-92a8-3394306b7ef8"
      },
      "execution_count": 4,
      "outputs": [
        {
          "output_type": "stream",
          "name": "stdout",
          "text": [
            "Número de pixels branco: 41474\n",
            "Número de pixels pretos: 18421\n",
            "Percentual pixels brancos: 69.2445112279823\n",
            "Imagem com câncer\n"
          ]
        }
      ]
    }
  ]
}